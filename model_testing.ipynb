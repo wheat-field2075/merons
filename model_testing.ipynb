{
 "cells": [
  {
   "cell_type": "code",
   "execution_count": null,
   "metadata": {},
   "outputs": [],
   "source": [
    "# Outside packages\n",
    "import os\n",
    "import sys\n",
    "import torch\n",
    "import numpy as np\n",
    "from tqdm import tqdm\n",
    "import albumentations as A\n",
    "from matplotlib import pyplot as plt\n",
    "from tensorboardX import SummaryWriter\n",
    "\n",
    "\n",
    "# Custom classes\n",
    "sys.path.append('./modules')\n",
    "from model_tools import Hourglass\n",
    "from temp_dataset_tools import make_dataset\n",
    "from loss_tools import loss_function_wrapper\n",
    "from data_tools import MapDataset, transform_data"
   ]
  },
  {
   "cell_type": "code",
   "execution_count": null,
   "metadata": {},
   "outputs": [],
   "source": [
    "device = torch.device(\"cuda:0\" if torch.cuda.is_available() else \"cpu\")\n",
    "parent_dir = './temp_ds/ds_7/'\n",
    "model = Hourglass(depth=1).to(device)\n",
    "state_dict_path = \"./active/2023.12.24 I shouldn't be working right now/model_saves/gcel, label=2 epoch=10000.pth\"\n",
    "\n",
    "_ = model.load_state_dict(torch.load(state_dict_path))"
   ]
  },
  {
   "cell_type": "code",
   "execution_count": null,
   "metadata": {},
   "outputs": [],
   "source": [
    "def temp_gen(parent_dir, model):\n",
    "    for fname in sorted(os.listdir(os.path.join(parent_dir, 'images'))):\n",
    "        print(os.path.join(parent_dir, 'images', fname))\n",
    "        if fname[-4:] != '.npy':\n",
    "            continue\n",
    "        image = np.load(os.path.join(parent_dir, 'images', fname))\n",
    "        mask = np.load(os.path.join(parent_dir, 'masks', fname))\n",
    "        pred = model(torch.Tensor(np.expand_dims(image, [0, 1])).to(device))\n",
    "        pred = pred.detach().cpu().numpy().squeeze()\n",
    "        plt.figure(figsize=[20, 10])\n",
    "        plt.subplot(1, 2, 1)\n",
    "        plt.imshow(pred, cmap='jet')\n",
    "        plt.subplot(1, 2, 2)\n",
    "        plt.imshow(mask, cmap='jet')\n",
    "        yield\n",
    "\n",
    "tg = temp_gen('./temp_ds/ds_7/', model)"
   ]
  },
  {
   "cell_type": "code",
   "execution_count": null,
   "metadata": {},
   "outputs": [],
   "source": [
    "next(tg)"
   ]
  }
 ],
 "metadata": {
  "kernelspec": {
   "display_name": "py39",
   "language": "python",
   "name": "python3"
  },
  "language_info": {
   "codemirror_mode": {
    "name": "ipython",
    "version": 3
   },
   "file_extension": ".py",
   "mimetype": "text/x-python",
   "name": "python",
   "nbconvert_exporter": "python",
   "pygments_lexer": "ipython3",
   "version": "3.9.16"
  }
 },
 "nbformat": 4,
 "nbformat_minor": 4
}
